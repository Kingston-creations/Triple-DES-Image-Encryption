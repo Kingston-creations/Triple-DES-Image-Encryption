{
  "nbformat": 4,
  "nbformat_minor": 0,
  "metadata": {
    "colab": {
      "name": "Triple des.ipynb",
      "provenance": [],
      "authorship_tag": "ABX9TyODmtDjItDXT5bOHY3j3u+0",
      "include_colab_link": true
    },
    "kernelspec": {
      "name": "python3",
      "display_name": "Python 3"
    },
    "language_info": {
      "name": "python"
    }
  },
  "cells": [
    {
      "cell_type": "markdown",
      "metadata": {
        "id": "view-in-github",
        "colab_type": "text"
      },
      "source": [
        "<a href=\"https://colab.research.google.com/github/Kingston-creations/Triple-DES-Image-Encryption/blob/main/Triple_des.ipynb\" target=\"_parent\"><img src=\"https://colab.research.google.com/assets/colab-badge.svg\" alt=\"Open In Colab\"/></a>"
      ]
    },
    {
      "cell_type": "code",
      "metadata": {
        "cellView": "form",
        "id": "qj6grgduNexr"
      },
      "source": [
        "#@title Run This Cell To Install Required Libraries!!!\n",
        "\n",
        "\n",
        "!pip install pycryptodome"
      ],
      "execution_count": null,
      "outputs": []
    },
    {
      "cell_type": "code",
      "metadata": {
        "colab": {
          "base_uri": "https://localhost:8080/"
        },
        "cellView": "form",
        "id": "3wY9gVFmVa1o",
        "outputId": "ecfd65d7-ea32-4376-a05a-4cf5babb9bcf"
      },
      "source": [
        "#@title Run This To Cell To Generate Random Key!!!\n",
        "import random  \n",
        "import string \n",
        "import os\n",
        "\n",
        "\n",
        "No_of_letters='5' #@param {type:\"string\"}\n",
        "os.environ[\"letter_count\"] = No_of_letters\n",
        "\n",
        "No_of_digits='5' #@param {type:\"string\"}\n",
        "os.environ[\"digit_count\"] = No_of_digits\n",
        "def random_string(letter_count, digit_count):  \n",
        "    key = ''.join((random.choice(string.ascii_letters) for x in range(letter_count)))  \n",
        "    key += ''.join((random.choice(string.digits) for x in range(digit_count)))  \n",
        "  \n",
        "    xnet_list = list(key) # it converts the string to list.  \n",
        "    random.shuffle(xnet_list) # It uses a random.shuffle() function to shuffle the string.  \n",
        "    final_string = ''.join(xnet_list)  \n",
        "    return final_string  \n",
        "  \n",
        "# define the length of the letter is eight and digits is four  \n",
        "print(\"Generated random key:\", random_string(letter_count, digit_count))  \n",
        "  "
      ],
      "execution_count": 43,
      "outputs": [
        {
          "output_type": "stream",
          "text": [
            "Generated random key: bbje8KfXY2Zm\n"
          ],
          "name": "stdout"
        }
      ]
    },
    {
      "cell_type": "code",
      "metadata": {
        "colab": {
          "base_uri": "https://localhost:8080/"
        },
        "cellView": "form",
        "id": "5ufpdBaJNMN1",
        "outputId": "2eb51f42-4c9a-4408-f925-12ff1821b8f4"
      },
      "source": [
        "#@title Run This Cell Encrypt And Decrypt Image Using Triple DES:\n",
        "\n",
        "print('--------------Developed by Lavan and Tharshan---------------')\n",
        "\n",
        "\n",
        "from Crypto.Cipher import DES3\n",
        "from hashlib import md5\n",
        "import os\n",
        "\n",
        "\n",
        "while True:\n",
        "    print('Choose operation to be done:\\n\\t1- Encryption\\n\\t2- Decryption')\n",
        "    operation = input('Your Choice: ')\n",
        "    if operation not in ['1', '2']:\n",
        "        break\n",
        "        \n",
        "    \n",
        "    \n",
        "    File_Path =\"/content/wp3277998 - Copy.jpg\" #@param {type:\"string\"}\n",
        "    os.environ[\"file_path\"] = File_Path\n",
        "    \n",
        "    DES3KEY ='bbje8KfXY2Zm' #@param {type:\"string\"}\n",
        "    os.environ[\"key\"] = DES3KEY\n",
        "\n",
        "    #key = input('DES3 key: ')\n",
        "    key_hash = md5(key.encode('ascii')).digest()\n",
        "\n",
        "   #key_hash = md5(key.encode('ascii')).digest()\n",
        "\n",
        "    \n",
        "    tdes_key = DES3.adjust_key_parity(key_hash)\n",
        "    \n",
        "    \n",
        "    cipher = DES3.new(tdes_key, DES3.MODE_EAX, nonce=b'0')\n",
        "    \n",
        "  \n",
        "    with open(file_path, 'rb') as input_file:\n",
        "        file_bytes = input_file.read()\n",
        "        \n",
        "        if operation == '1':\n",
        "          \n",
        "            new_file_bytes = cipher.encrypt(file_bytes)\n",
        "        else:\n",
        "           \n",
        "            new_file_bytes = cipher.decrypt(file_bytes)\n",
        "    \n",
        "    with open(file_path, 'wb') as output_file:\n",
        "        output_file.write(new_file_bytes)\n",
        "        print('Operation Done!')\n",
        "        break"
      ],
      "execution_count": 45,
      "outputs": [
        {
          "output_type": "stream",
          "text": [
            "--------------Developed by Lavan and Tharshan---------------\n",
            "Choose operation to be done:\n",
            "\t1- Encryption\n",
            "\t2- Decryption\n",
            "Your Choice: 2\n",
            "Operation Done!\n"
          ],
          "name": "stdout"
        }
      ]
    }
  ]
}